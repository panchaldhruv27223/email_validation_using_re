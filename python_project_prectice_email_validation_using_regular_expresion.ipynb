{
 "cells": [
  {
   "cell_type": "code",
   "execution_count": 2,
   "id": "dabd618d",
   "metadata": {},
   "outputs": [],
   "source": [
    "# a-z\n",
    "# 0-9\n",
    "#  . _\n",
    "#  @ --1\n",
    "#  . from last 2 or 3 "
   ]
  },
  {
   "cell_type": "code",
   "execution_count": 3,
   "id": "c2c4a5e0",
   "metadata": {},
   "outputs": [],
   "source": [
    "import re"
   ]
  },
  {
   "cell_type": "code",
   "execution_count": 20,
   "id": "3376106b",
   "metadata": {},
   "outputs": [],
   "source": [
    "#  ^ start with \n",
    "#   [] range \n",
    "#  + condtion merge \n",
    "#  for search we use    \\  \n",
    "#   ?  \n",
    "#  \\w for search\n",
    "#  for specific splace\n",
    "#  for search from last we use $\n",
    "\n",
    "email_condition= \"^[a-z]+[\\._]?[a-z 0-9]+[@]\\w+[.]\\w{2,3}$\""
   ]
  },
  {
   "cell_type": "code",
   "execution_count": 25,
   "id": "62b26b0d",
   "metadata": {},
   "outputs": [
    {
     "name": "stdout",
     "output_type": "stream",
     "text": [
      "enter a mail : dhruv@gmail.com\n"
     ]
    }
   ],
   "source": [
    "user_email = input(\"enter a mail : \")"
   ]
  },
  {
   "cell_type": "code",
   "execution_count": 26,
   "id": "c141f8ec",
   "metadata": {},
   "outputs": [
    {
     "name": "stdout",
     "output_type": "stream",
     "text": [
      "valid mail\n"
     ]
    }
   ],
   "source": [
    "if re.search(email_condition , user_email):\n",
    "    print(\"valid mail\")\n",
    "else:\n",
    "    print(\"invalid mail\")"
   ]
  },
  {
   "cell_type": "code",
   "execution_count": null,
   "id": "4aee8f1b",
   "metadata": {},
   "outputs": [],
   "source": []
  }
 ],
 "metadata": {
  "kernelspec": {
   "display_name": "Python 3 (ipykernel)",
   "language": "python",
   "name": "python3"
  },
  "language_info": {
   "codemirror_mode": {
    "name": "ipython",
    "version": 3
   },
   "file_extension": ".py",
   "mimetype": "text/x-python",
   "name": "python",
   "nbconvert_exporter": "python",
   "pygments_lexer": "ipython3",
   "version": "3.9.7"
  }
 },
 "nbformat": 4,
 "nbformat_minor": 5
}
